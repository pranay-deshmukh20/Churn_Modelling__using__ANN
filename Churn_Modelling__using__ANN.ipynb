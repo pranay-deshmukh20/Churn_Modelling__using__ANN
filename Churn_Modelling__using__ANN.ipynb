{
  "nbformat": 4,
  "nbformat_minor": 0,
  "metadata": {
    "colab": {
      "name": "Churn_Modelling _using _ANN",
      "provenance": [],
      "collapsed_sections": []
    },
    "kernelspec": {
      "name": "python3",
      "display_name": "Python 3"
    },
    "language_info": {
      "name": "python"
    },
    "accelerator": "GPU"
  },
  "cells": [
    {
      "cell_type": "code",
      "metadata": {
        "id": "cSbda7WrDol5"
      },
      "source": [
        "import numpy as np\n",
        "import matplotlib.pyplot as plt\n",
        "import pandas as pd"
      ],
      "execution_count": 2,
      "outputs": []
    },
    {
      "cell_type": "code",
      "metadata": {
        "id": "CYnBGsBpDo9E"
      },
      "source": [
        "# Importing the dataset\n",
        "dataset = pd.read_csv('/content/Churn_Modelling.csv')\n",
        "X = dataset.iloc[:, 3:13]\n",
        "y = dataset.iloc[:, 13]"
      ],
      "execution_count": 4,
      "outputs": []
    },
    {
      "cell_type": "code",
      "metadata": {
        "id": "S49GzGNpDo_0"
      },
      "source": [
        "#Create dummy variables\n",
        "geography=pd.get_dummies(X[\"Geography\"],drop_first=True)\n",
        "gender=pd.get_dummies(X['Gender'],drop_first=True)"
      ],
      "execution_count": 5,
      "outputs": []
    },
    {
      "cell_type": "code",
      "metadata": {
        "id": "zlYXm_iQDpCm"
      },
      "source": [
        "## Concatenate the Data Frames\n",
        "\n",
        "X=pd.concat([X,geography,gender],axis=1)"
      ],
      "execution_count": 6,
      "outputs": []
    },
    {
      "cell_type": "code",
      "metadata": {
        "id": "077uzbsxDpFR"
      },
      "source": [
        "## Drop Unnecessary columns\n",
        "X=X.drop(['Geography','Gender'],axis=1)"
      ],
      "execution_count": 7,
      "outputs": []
    },
    {
      "cell_type": "code",
      "metadata": {
        "id": "eLjpPsjnDpHo"
      },
      "source": [
        "# Splitting the dataset into the Training set and Test set\n",
        "from sklearn.model_selection import train_test_split\n",
        "X_train, X_test, y_train, y_test = train_test_split(X, y, test_size = 0.2, random_state = 0)\n"
      ],
      "execution_count": 8,
      "outputs": []
    },
    {
      "cell_type": "code",
      "metadata": {
        "id": "J6rsgIKUDpKK"
      },
      "source": [
        "# Feature Scaling\n",
        "from sklearn.preprocessing import StandardScaler\n",
        "sc = StandardScaler()\n",
        "X_train = sc.fit_transform(X_train)\n",
        "X_test = sc.transform(X_test)\n"
      ],
      "execution_count": 9,
      "outputs": []
    },
    {
      "cell_type": "code",
      "metadata": {
        "id": "NJm9vFroDpNM"
      },
      "source": [
        "# Part 2 - Now let's make the ANN!\n",
        "\n",
        "# Importing the Keras libraries and packages\n",
        "import keras\n",
        "from keras.models import Sequential\n",
        "from keras.layers import Dense\n",
        "from keras.layers import LeakyReLU,PReLU,ELU\n",
        "from keras.layers import Dropout\n"
      ],
      "execution_count": 10,
      "outputs": []
    },
    {
      "cell_type": "code",
      "metadata": {
        "id": "SS7XI4djDpPr"
      },
      "source": [
        "# Initialising the ANN\n",
        "classifier = Sequential()"
      ],
      "execution_count": 11,
      "outputs": []
    },
    {
      "cell_type": "code",
      "metadata": {
        "id": "U-c_OrIvDnis"
      },
      "source": [
        "# Adding the input layer and the first hidden layer\n",
        "classifier.add(Dense(units= 6, kernel_initializer= 'he_uniform',activation='relu',input_dim = 11))\n",
        "\n",
        "# Adding the second hidden layer\n",
        "classifier.add(Dense(units = 6, kernel_initializer= 'he_uniform',activation='relu'))\n",
        "# Adding the output layer\n",
        "classifier.add(Dense(units= 1, kernel_initializer= 'glorot_uniform', activation = 'sigmoid'))"
      ],
      "execution_count": 12,
      "outputs": []
    },
    {
      "cell_type": "code",
      "metadata": {
        "id": "MQ9D0bAEQ_dx"
      },
      "source": [
        "# Compiling the ANN\n",
        "classifier.compile(optimizer = 'Adamax', loss = 'binary_crossentropy', metrics = ['accuracy'])"
      ],
      "execution_count": 13,
      "outputs": []
    },
    {
      "cell_type": "code",
      "metadata": {
        "colab": {
          "base_uri": "https://localhost:8080/"
        },
        "id": "yxVApMZyN5hT",
        "outputId": "f3d69399-ad52-4abe-d242-6ffbe212c229"
      },
      "source": [
        "# Fitting the ANN to the Training set\n",
        "model_history=classifier.fit(X_train, y_train,validation_split=0.33, batch_size = 10, epochs= 100)"
      ],
      "execution_count": 14,
      "outputs": [
        {
          "output_type": "stream",
          "text": [
            "Epoch 1/100\n",
            "536/536 [==============================] - 5s 4ms/step - loss: 0.6160 - accuracy: 0.7586 - val_loss: 0.5651 - val_accuracy: 0.7955\n",
            "Epoch 2/100\n",
            "536/536 [==============================] - 2s 3ms/step - loss: 0.5558 - accuracy: 0.7960 - val_loss: 0.5320 - val_accuracy: 0.7955\n",
            "Epoch 3/100\n",
            "536/536 [==============================] - 2s 3ms/step - loss: 0.5270 - accuracy: 0.7956 - val_loss: 0.5092 - val_accuracy: 0.7959\n",
            "Epoch 4/100\n",
            "536/536 [==============================] - 2s 3ms/step - loss: 0.5057 - accuracy: 0.7982 - val_loss: 0.4900 - val_accuracy: 0.7993\n",
            "Epoch 5/100\n",
            "536/536 [==============================] - 2s 3ms/step - loss: 0.4751 - accuracy: 0.8036 - val_loss: 0.4746 - val_accuracy: 0.8027\n",
            "Epoch 6/100\n",
            "536/536 [==============================] - 2s 3ms/step - loss: 0.4774 - accuracy: 0.7925 - val_loss: 0.4614 - val_accuracy: 0.8035\n",
            "Epoch 7/100\n",
            "536/536 [==============================] - 2s 3ms/step - loss: 0.4747 - accuracy: 0.7945 - val_loss: 0.4502 - val_accuracy: 0.8095\n",
            "Epoch 8/100\n",
            "536/536 [==============================] - 2s 3ms/step - loss: 0.4608 - accuracy: 0.7958 - val_loss: 0.4408 - val_accuracy: 0.8118\n",
            "Epoch 9/100\n",
            "536/536 [==============================] - 2s 3ms/step - loss: 0.4246 - accuracy: 0.8179 - val_loss: 0.4333 - val_accuracy: 0.8141\n",
            "Epoch 10/100\n",
            "536/536 [==============================] - 2s 3ms/step - loss: 0.4267 - accuracy: 0.8123 - val_loss: 0.4267 - val_accuracy: 0.8183\n",
            "Epoch 11/100\n",
            "536/536 [==============================] - 2s 3ms/step - loss: 0.4165 - accuracy: 0.8183 - val_loss: 0.4209 - val_accuracy: 0.8201\n",
            "Epoch 12/100\n",
            "536/536 [==============================] - 2s 3ms/step - loss: 0.4134 - accuracy: 0.8230 - val_loss: 0.4164 - val_accuracy: 0.8228\n",
            "Epoch 13/100\n",
            "536/536 [==============================] - 2s 3ms/step - loss: 0.4013 - accuracy: 0.8303 - val_loss: 0.4128 - val_accuracy: 0.8236\n",
            "Epoch 14/100\n",
            "536/536 [==============================] - 2s 3ms/step - loss: 0.4095 - accuracy: 0.8220 - val_loss: 0.4094 - val_accuracy: 0.8232\n",
            "Epoch 15/100\n",
            "536/536 [==============================] - 2s 3ms/step - loss: 0.3944 - accuracy: 0.8294 - val_loss: 0.4065 - val_accuracy: 0.8247\n",
            "Epoch 16/100\n",
            "536/536 [==============================] - 2s 3ms/step - loss: 0.4055 - accuracy: 0.8282 - val_loss: 0.4036 - val_accuracy: 0.8266\n",
            "Epoch 17/100\n",
            "536/536 [==============================] - 2s 3ms/step - loss: 0.3834 - accuracy: 0.8398 - val_loss: 0.4008 - val_accuracy: 0.8304\n",
            "Epoch 18/100\n",
            "536/536 [==============================] - 2s 3ms/step - loss: 0.3826 - accuracy: 0.8426 - val_loss: 0.3981 - val_accuracy: 0.8285\n",
            "Epoch 19/100\n",
            "536/536 [==============================] - 2s 3ms/step - loss: 0.3678 - accuracy: 0.8566 - val_loss: 0.3957 - val_accuracy: 0.8304\n",
            "Epoch 20/100\n",
            "536/536 [==============================] - 2s 3ms/step - loss: 0.3788 - accuracy: 0.8424 - val_loss: 0.3934 - val_accuracy: 0.8345\n",
            "Epoch 21/100\n",
            "536/536 [==============================] - 2s 3ms/step - loss: 0.3708 - accuracy: 0.8448 - val_loss: 0.3910 - val_accuracy: 0.8349\n",
            "Epoch 22/100\n",
            "536/536 [==============================] - 2s 3ms/step - loss: 0.3686 - accuracy: 0.8466 - val_loss: 0.3887 - val_accuracy: 0.8364\n",
            "Epoch 23/100\n",
            "536/536 [==============================] - 2s 3ms/step - loss: 0.3699 - accuracy: 0.8461 - val_loss: 0.3868 - val_accuracy: 0.8372\n",
            "Epoch 24/100\n",
            "536/536 [==============================] - 2s 3ms/step - loss: 0.3756 - accuracy: 0.8421 - val_loss: 0.3846 - val_accuracy: 0.8406\n",
            "Epoch 25/100\n",
            "536/536 [==============================] - 2s 3ms/step - loss: 0.3701 - accuracy: 0.8482 - val_loss: 0.3826 - val_accuracy: 0.8421\n",
            "Epoch 26/100\n",
            "536/536 [==============================] - 2s 3ms/step - loss: 0.3725 - accuracy: 0.8473 - val_loss: 0.3806 - val_accuracy: 0.8429\n",
            "Epoch 27/100\n",
            "536/536 [==============================] - 2s 3ms/step - loss: 0.3653 - accuracy: 0.8476 - val_loss: 0.3788 - val_accuracy: 0.8444\n",
            "Epoch 28/100\n",
            "536/536 [==============================] - 2s 3ms/step - loss: 0.3572 - accuracy: 0.8541 - val_loss: 0.3773 - val_accuracy: 0.8451\n",
            "Epoch 29/100\n",
            "536/536 [==============================] - 2s 3ms/step - loss: 0.3421 - accuracy: 0.8643 - val_loss: 0.3760 - val_accuracy: 0.8463\n",
            "Epoch 30/100\n",
            "536/536 [==============================] - 2s 3ms/step - loss: 0.3577 - accuracy: 0.8543 - val_loss: 0.3747 - val_accuracy: 0.8478\n",
            "Epoch 31/100\n",
            "536/536 [==============================] - 2s 3ms/step - loss: 0.3606 - accuracy: 0.8471 - val_loss: 0.3733 - val_accuracy: 0.8478\n",
            "Epoch 32/100\n",
            "536/536 [==============================] - 2s 3ms/step - loss: 0.3495 - accuracy: 0.8591 - val_loss: 0.3722 - val_accuracy: 0.8493\n",
            "Epoch 33/100\n",
            "536/536 [==============================] - 2s 3ms/step - loss: 0.3499 - accuracy: 0.8601 - val_loss: 0.3709 - val_accuracy: 0.8501\n",
            "Epoch 34/100\n",
            "536/536 [==============================] - 2s 3ms/step - loss: 0.3431 - accuracy: 0.8593 - val_loss: 0.3704 - val_accuracy: 0.8501\n",
            "Epoch 35/100\n",
            "536/536 [==============================] - 2s 3ms/step - loss: 0.3519 - accuracy: 0.8553 - val_loss: 0.3697 - val_accuracy: 0.8516\n",
            "Epoch 36/100\n",
            "536/536 [==============================] - 2s 3ms/step - loss: 0.3521 - accuracy: 0.8559 - val_loss: 0.3689 - val_accuracy: 0.8535\n",
            "Epoch 37/100\n",
            "536/536 [==============================] - 2s 3ms/step - loss: 0.3485 - accuracy: 0.8515 - val_loss: 0.3682 - val_accuracy: 0.8542\n",
            "Epoch 38/100\n",
            "536/536 [==============================] - 2s 3ms/step - loss: 0.3449 - accuracy: 0.8557 - val_loss: 0.3675 - val_accuracy: 0.8546\n",
            "Epoch 39/100\n",
            "536/536 [==============================] - 2s 3ms/step - loss: 0.3382 - accuracy: 0.8633 - val_loss: 0.3670 - val_accuracy: 0.8554\n",
            "Epoch 40/100\n",
            "536/536 [==============================] - 2s 3ms/step - loss: 0.3388 - accuracy: 0.8613 - val_loss: 0.3668 - val_accuracy: 0.8546\n",
            "Epoch 41/100\n",
            "536/536 [==============================] - 2s 3ms/step - loss: 0.3465 - accuracy: 0.8598 - val_loss: 0.3664 - val_accuracy: 0.8546\n",
            "Epoch 42/100\n",
            "536/536 [==============================] - 2s 3ms/step - loss: 0.3406 - accuracy: 0.8645 - val_loss: 0.3657 - val_accuracy: 0.8546\n",
            "Epoch 43/100\n",
            "536/536 [==============================] - 2s 3ms/step - loss: 0.3520 - accuracy: 0.8562 - val_loss: 0.3654 - val_accuracy: 0.8550\n",
            "Epoch 44/100\n",
            "536/536 [==============================] - 2s 3ms/step - loss: 0.3496 - accuracy: 0.8591 - val_loss: 0.3655 - val_accuracy: 0.8554\n",
            "Epoch 45/100\n",
            "536/536 [==============================] - 2s 3ms/step - loss: 0.3440 - accuracy: 0.8631 - val_loss: 0.3653 - val_accuracy: 0.8504\n",
            "Epoch 46/100\n",
            "536/536 [==============================] - 2s 3ms/step - loss: 0.3410 - accuracy: 0.8567 - val_loss: 0.3650 - val_accuracy: 0.8519\n",
            "Epoch 47/100\n",
            "536/536 [==============================] - 2s 3ms/step - loss: 0.3411 - accuracy: 0.8577 - val_loss: 0.3648 - val_accuracy: 0.8531\n",
            "Epoch 48/100\n",
            "536/536 [==============================] - 2s 3ms/step - loss: 0.3368 - accuracy: 0.8620 - val_loss: 0.3647 - val_accuracy: 0.8523\n",
            "Epoch 49/100\n",
            "536/536 [==============================] - 2s 3ms/step - loss: 0.3265 - accuracy: 0.8687 - val_loss: 0.3645 - val_accuracy: 0.8531\n",
            "Epoch 50/100\n",
            "536/536 [==============================] - 2s 3ms/step - loss: 0.3399 - accuracy: 0.8587 - val_loss: 0.3640 - val_accuracy: 0.8508\n",
            "Epoch 51/100\n",
            "536/536 [==============================] - 2s 3ms/step - loss: 0.3305 - accuracy: 0.8647 - val_loss: 0.3642 - val_accuracy: 0.8516\n",
            "Epoch 52/100\n",
            "536/536 [==============================] - 2s 3ms/step - loss: 0.3473 - accuracy: 0.8550 - val_loss: 0.3639 - val_accuracy: 0.8508\n",
            "Epoch 53/100\n",
            "536/536 [==============================] - 2s 3ms/step - loss: 0.3318 - accuracy: 0.8641 - val_loss: 0.3638 - val_accuracy: 0.8501\n",
            "Epoch 54/100\n",
            "536/536 [==============================] - 2s 3ms/step - loss: 0.3384 - accuracy: 0.8608 - val_loss: 0.3642 - val_accuracy: 0.8497\n",
            "Epoch 55/100\n",
            "536/536 [==============================] - 2s 3ms/step - loss: 0.3465 - accuracy: 0.8541 - val_loss: 0.3639 - val_accuracy: 0.8519\n",
            "Epoch 56/100\n",
            "536/536 [==============================] - 2s 3ms/step - loss: 0.3324 - accuracy: 0.8703 - val_loss: 0.3635 - val_accuracy: 0.8512\n",
            "Epoch 57/100\n",
            "536/536 [==============================] - 2s 3ms/step - loss: 0.3425 - accuracy: 0.8555 - val_loss: 0.3639 - val_accuracy: 0.8523\n",
            "Epoch 58/100\n",
            "536/536 [==============================] - 2s 3ms/step - loss: 0.3322 - accuracy: 0.8604 - val_loss: 0.3637 - val_accuracy: 0.8497\n",
            "Epoch 59/100\n",
            "536/536 [==============================] - 2s 3ms/step - loss: 0.3329 - accuracy: 0.8590 - val_loss: 0.3635 - val_accuracy: 0.8493\n",
            "Epoch 60/100\n",
            "536/536 [==============================] - 2s 3ms/step - loss: 0.3359 - accuracy: 0.8570 - val_loss: 0.3633 - val_accuracy: 0.8519\n",
            "Epoch 61/100\n",
            "536/536 [==============================] - 2s 3ms/step - loss: 0.3422 - accuracy: 0.8579 - val_loss: 0.3630 - val_accuracy: 0.8516\n",
            "Epoch 62/100\n",
            "536/536 [==============================] - 2s 3ms/step - loss: 0.3332 - accuracy: 0.8589 - val_loss: 0.3633 - val_accuracy: 0.8489\n",
            "Epoch 63/100\n",
            "536/536 [==============================] - 2s 3ms/step - loss: 0.3424 - accuracy: 0.8538 - val_loss: 0.3629 - val_accuracy: 0.8504\n",
            "Epoch 64/100\n",
            "536/536 [==============================] - 2s 3ms/step - loss: 0.3315 - accuracy: 0.8610 - val_loss: 0.3628 - val_accuracy: 0.8504\n",
            "Epoch 65/100\n",
            "536/536 [==============================] - 2s 3ms/step - loss: 0.3299 - accuracy: 0.8639 - val_loss: 0.3628 - val_accuracy: 0.8504\n",
            "Epoch 66/100\n",
            "536/536 [==============================] - 2s 3ms/step - loss: 0.3290 - accuracy: 0.8648 - val_loss: 0.3628 - val_accuracy: 0.8501\n",
            "Epoch 67/100\n",
            "536/536 [==============================] - 2s 3ms/step - loss: 0.3516 - accuracy: 0.8565 - val_loss: 0.3628 - val_accuracy: 0.8489\n",
            "Epoch 68/100\n",
            "536/536 [==============================] - 2s 3ms/step - loss: 0.3378 - accuracy: 0.8628 - val_loss: 0.3628 - val_accuracy: 0.8493\n",
            "Epoch 69/100\n",
            "536/536 [==============================] - 2s 3ms/step - loss: 0.3408 - accuracy: 0.8550 - val_loss: 0.3625 - val_accuracy: 0.8501\n",
            "Epoch 70/100\n",
            "536/536 [==============================] - 2s 3ms/step - loss: 0.3334 - accuracy: 0.8598 - val_loss: 0.3627 - val_accuracy: 0.8497\n",
            "Epoch 71/100\n",
            "536/536 [==============================] - 2s 3ms/step - loss: 0.3388 - accuracy: 0.8655 - val_loss: 0.3622 - val_accuracy: 0.8489\n",
            "Epoch 72/100\n",
            "536/536 [==============================] - 2s 3ms/step - loss: 0.3468 - accuracy: 0.8574 - val_loss: 0.3621 - val_accuracy: 0.8501\n",
            "Epoch 73/100\n",
            "536/536 [==============================] - 2s 3ms/step - loss: 0.3340 - accuracy: 0.8606 - val_loss: 0.3621 - val_accuracy: 0.8504\n",
            "Epoch 74/100\n",
            "536/536 [==============================] - 2s 3ms/step - loss: 0.3153 - accuracy: 0.8719 - val_loss: 0.3618 - val_accuracy: 0.8497\n",
            "Epoch 75/100\n",
            "536/536 [==============================] - 2s 3ms/step - loss: 0.3307 - accuracy: 0.8673 - val_loss: 0.3617 - val_accuracy: 0.8504\n",
            "Epoch 76/100\n",
            "536/536 [==============================] - 2s 3ms/step - loss: 0.3449 - accuracy: 0.8580 - val_loss: 0.3622 - val_accuracy: 0.8493\n",
            "Epoch 77/100\n",
            "536/536 [==============================] - 2s 3ms/step - loss: 0.3418 - accuracy: 0.8537 - val_loss: 0.3616 - val_accuracy: 0.8504\n",
            "Epoch 78/100\n",
            "536/536 [==============================] - 2s 3ms/step - loss: 0.3479 - accuracy: 0.8555 - val_loss: 0.3615 - val_accuracy: 0.8504\n",
            "Epoch 79/100\n",
            "536/536 [==============================] - 2s 3ms/step - loss: 0.3330 - accuracy: 0.8656 - val_loss: 0.3618 - val_accuracy: 0.8501\n",
            "Epoch 80/100\n",
            "536/536 [==============================] - 2s 3ms/step - loss: 0.3326 - accuracy: 0.8616 - val_loss: 0.3615 - val_accuracy: 0.8497\n",
            "Epoch 81/100\n",
            "536/536 [==============================] - 2s 3ms/step - loss: 0.3226 - accuracy: 0.8715 - val_loss: 0.3613 - val_accuracy: 0.8508\n",
            "Epoch 82/100\n",
            "536/536 [==============================] - 2s 3ms/step - loss: 0.3390 - accuracy: 0.8605 - val_loss: 0.3613 - val_accuracy: 0.8501\n",
            "Epoch 83/100\n",
            "536/536 [==============================] - 2s 3ms/step - loss: 0.3386 - accuracy: 0.8603 - val_loss: 0.3615 - val_accuracy: 0.8493\n",
            "Epoch 84/100\n",
            "536/536 [==============================] - 2s 3ms/step - loss: 0.3328 - accuracy: 0.8664 - val_loss: 0.3610 - val_accuracy: 0.8501\n",
            "Epoch 85/100\n",
            "536/536 [==============================] - 2s 3ms/step - loss: 0.3292 - accuracy: 0.8624 - val_loss: 0.3609 - val_accuracy: 0.8493\n",
            "Epoch 86/100\n",
            "536/536 [==============================] - 2s 3ms/step - loss: 0.3245 - accuracy: 0.8676 - val_loss: 0.3608 - val_accuracy: 0.8512\n",
            "Epoch 87/100\n",
            "536/536 [==============================] - 2s 3ms/step - loss: 0.3374 - accuracy: 0.8605 - val_loss: 0.3606 - val_accuracy: 0.8512\n",
            "Epoch 88/100\n",
            "536/536 [==============================] - 2s 3ms/step - loss: 0.3392 - accuracy: 0.8627 - val_loss: 0.3609 - val_accuracy: 0.8501\n",
            "Epoch 89/100\n",
            "536/536 [==============================] - 2s 3ms/step - loss: 0.3246 - accuracy: 0.8642 - val_loss: 0.3609 - val_accuracy: 0.8501\n",
            "Epoch 90/100\n",
            "536/536 [==============================] - 2s 3ms/step - loss: 0.3263 - accuracy: 0.8681 - val_loss: 0.3605 - val_accuracy: 0.8504\n",
            "Epoch 91/100\n",
            "536/536 [==============================] - 2s 3ms/step - loss: 0.3406 - accuracy: 0.8555 - val_loss: 0.3606 - val_accuracy: 0.8504\n",
            "Epoch 92/100\n",
            "536/536 [==============================] - 2s 3ms/step - loss: 0.3188 - accuracy: 0.8713 - val_loss: 0.3607 - val_accuracy: 0.8512\n",
            "Epoch 93/100\n",
            "536/536 [==============================] - 2s 3ms/step - loss: 0.3260 - accuracy: 0.8650 - val_loss: 0.3604 - val_accuracy: 0.8501\n",
            "Epoch 94/100\n",
            "536/536 [==============================] - 2s 3ms/step - loss: 0.3414 - accuracy: 0.8604 - val_loss: 0.3605 - val_accuracy: 0.8508\n",
            "Epoch 95/100\n",
            "536/536 [==============================] - 2s 3ms/step - loss: 0.3385 - accuracy: 0.8565 - val_loss: 0.3604 - val_accuracy: 0.8508\n",
            "Epoch 96/100\n",
            "536/536 [==============================] - 2s 3ms/step - loss: 0.3354 - accuracy: 0.8622 - val_loss: 0.3607 - val_accuracy: 0.8497\n",
            "Epoch 97/100\n",
            "536/536 [==============================] - 2s 3ms/step - loss: 0.3321 - accuracy: 0.8646 - val_loss: 0.3607 - val_accuracy: 0.8493\n",
            "Epoch 98/100\n",
            "536/536 [==============================] - 2s 3ms/step - loss: 0.3245 - accuracy: 0.8684 - val_loss: 0.3605 - val_accuracy: 0.8497\n",
            "Epoch 99/100\n",
            "536/536 [==============================] - 2s 3ms/step - loss: 0.3410 - accuracy: 0.8598 - val_loss: 0.3604 - val_accuracy: 0.8497\n",
            "Epoch 100/100\n",
            "536/536 [==============================] - 2s 3ms/step - loss: 0.3395 - accuracy: 0.8588 - val_loss: 0.3603 - val_accuracy: 0.8512\n"
          ],
          "name": "stdout"
        }
      ]
    },
    {
      "cell_type": "code",
      "metadata": {
        "colab": {
          "base_uri": "https://localhost:8080/"
        },
        "id": "zSCBrbpMX2Sw",
        "outputId": "856af97e-2656-4579-f46c-b1aeeba00793"
      },
      "source": [
        "# list all data in history\n",
        "print(model_history.history.keys())"
      ],
      "execution_count": 15,
      "outputs": [
        {
          "output_type": "stream",
          "text": [
            "dict_keys(['loss', 'accuracy', 'val_loss', 'val_accuracy'])\n"
          ],
          "name": "stdout"
        }
      ]
    },
    {
      "cell_type": "code",
      "metadata": {
        "colab": {
          "base_uri": "https://localhost:8080/",
          "height": 295
        },
        "id": "SEqHMvXHDeyR",
        "outputId": "8636e1b6-ae30-40b4-f4eb-ecb4250b250d"
      },
      "source": [
        "\n",
        "# summarize history for accuracy\n",
        "plt.plot(model_history.history['accuracy'])\n",
        "plt.plot(model_history.history['val_accuracy'])\n",
        "plt.title('model accuracy')\n",
        "plt.ylabel('accuracy')\n",
        "plt.xlabel('epoch')\n",
        "plt.legend(['train', 'test'], loc='upper left')\n",
        "plt.show()\n"
      ],
      "execution_count": 16,
      "outputs": [
        {
          "output_type": "display_data",
          "data": {
            "image/png": "[encoded data removed]",
            "text/plain": [
              "<Figure size 432x288 with 1 Axes>"
            ]
          },
          "metadata": {
            "tags": [],
            "needs_background": "light"
          }
        }
      ]
    },
    {
      "cell_type": "code",
      "metadata": {
        "colab": {
          "base_uri": "https://localhost:8080/",
          "height": 295
        },
        "id": "7X50fqYuNhfO",
        "outputId": "8031c1d4-debe-40b9-be0e-c10d948e7d86"
      },
      "source": [
        "# summarize history for loss\n",
        "plt.plot(model_history.history['loss'])\n",
        "plt.plot(model_history.history['val_loss'])\n",
        "plt.title('model loss')\n",
        "plt.ylabel('loss')\n",
        "plt.xlabel('epoch')\n",
        "plt.legend(['train', 'test'], loc='upper left')\n",
        "plt.show()"
      ],
      "execution_count": 17,
      "outputs": [
        {
          "output_type": "display_data",
          "data": {
            "image/png": "[encoded data removed]",
            "text/plain": [
              "<Figure size 432x288 with 1 Axes>"
            ]
          },
          "metadata": {
            "tags": [],
            "needs_background": "light"
          }
        }
      ]
    },
    {
      "cell_type": "code",
      "metadata": {
        "id": "TF7PwbbiNhj8"
      },
      "source": [
        "# Part 3 - Making the predictions and evaluating the model\n",
        "\n",
        "# Predicting the Test set results\n",
        "y_pred = classifier.predict(X_test)\n",
        "y_pred = (y_pred > 0.5)\n"
      ],
      "execution_count": 18,
      "outputs": []
    },
    {
      "cell_type": "code",
      "metadata": {
        "colab": {
          "base_uri": "https://localhost:8080/"
        },
        "id": "lUgTCJXpNhmw",
        "outputId": "e3e445dd-e9d0-43c1-f8d7-a625ffb344e5"
      },
      "source": [
        "# Making the Confusion Matrix\n",
        "from sklearn.metrics import confusion_matrix\n",
        "cm = confusion_matrix(y_test, y_pred)\n",
        "cm"
      ],
      "execution_count": 21,
      "outputs": [
        {
          "output_type": "execute_result",
          "data": {
            "text/plain": [
              "array([[1519,   76],\n",
              "       [ 201,  204]])"
            ]
          },
          "metadata": {
            "tags": []
          },
          "execution_count": 21
        }
      ]
    },
    {
      "cell_type": "code",
      "metadata": {
        "colab": {
          "base_uri": "https://localhost:8080/"
        },
        "id": "H0bS9WDdNhpk",
        "outputId": "69518f0f-62f7-4c17-b0c1-1c5400e99474"
      },
      "source": [
        "# Calculate the Accuracy\n",
        "from sklearn.metrics import accuracy_score\n",
        "score=accuracy_score(y_pred,y_test)\n",
        "score"
      ],
      "execution_count": 22,
      "outputs": [
        {
          "output_type": "execute_result",
          "data": {
            "text/plain": [
              "0.8615"
            ]
          },
          "metadata": {
            "tags": []
          },
          "execution_count": 22
        }
      ]
    },
    {
      "cell_type": "code",
      "metadata": {
        "id": "qPF9adRUNhsN"
      },
      "source": [
        ""
      ],
      "execution_count": null,
      "outputs": []
    },
    {
      "cell_type": "code",
      "metadata": {
        "id": "SIpgE6uUNhus"
      },
      "source": [
        ""
      ],
      "execution_count": null,
      "outputs": []
    },
    {
      "cell_type": "code",
      "metadata": {
        "id": "rQOWxOWWNhzt"
      },
      "source": [
        ""
      ],
      "execution_count": null,
      "outputs": []
    },
    {
      "cell_type": "code",
      "metadata": {
        "id": "BBhRcbelNh2K"
      },
      "source": [
        ""
      ],
      "execution_count": null,
      "outputs": []
    }
  ]
}
